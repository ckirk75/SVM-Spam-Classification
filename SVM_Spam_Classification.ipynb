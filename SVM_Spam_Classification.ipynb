{
  "cells": [
    {
      "cell_type": "code",
      "execution_count": null,
      "metadata": {
        "colab": {
          "base_uri": "https://localhost:8080/"
        },
        "id": "X7H3KKYU_Arv",
        "outputId": "eeb68292-7208-443a-ffc8-77d528f2998d"
      },
      "outputs": [
        {
          "name": "stdout",
          "output_type": "stream",
          "text": [
            "Requirement already satisfied: pandas in /usr/local/lib/python3.10/dist-packages (2.2.2)\n",
            "Requirement already satisfied: scikit-learn in /usr/local/lib/python3.10/dist-packages (1.5.2)\n",
            "Requirement already satisfied: numpy>=1.22.4 in /usr/local/lib/python3.10/dist-packages (from pandas) (1.26.4)\n",
            "Requirement already satisfied: python-dateutil>=2.8.2 in /usr/local/lib/python3.10/dist-packages (from pandas) (2.8.2)\n",
            "Requirement already satisfied: pytz>=2020.1 in /usr/local/lib/python3.10/dist-packages (from pandas) (2024.2)\n",
            "Requirement already satisfied: tzdata>=2022.7 in /usr/local/lib/python3.10/dist-packages (from pandas) (2024.2)\n",
            "Requirement already satisfied: scipy>=1.6.0 in /usr/local/lib/python3.10/dist-packages (from scikit-learn) (1.13.1)\n",
            "Requirement already satisfied: joblib>=1.2.0 in /usr/local/lib/python3.10/dist-packages (from scikit-learn) (1.4.2)\n",
            "Requirement already satisfied: threadpoolctl>=3.1.0 in /usr/local/lib/python3.10/dist-packages (from scikit-learn) (3.5.0)\n",
            "Requirement already satisfied: six>=1.5 in /usr/local/lib/python3.10/dist-packages (from python-dateutil>=2.8.2->pandas) (1.16.0)\n"
          ]
        }
      ],
      "source": [
        "pip install pandas scikit-learn\n"
      ]
    },
    {
      "cell_type": "code",
      "execution_count": null,
      "metadata": {
        "colab": {
          "background_save": true
        },
        "id": "JexP46k4_Q0X",
        "outputId": "6ac9eb1c-1543-473a-f173-f1a7c2f37c78"
      },
      "outputs": [
        {
          "name": "stdout",
          "output_type": "stream",
          "text": [
            "   feature_1  feature_2  feature_3  feature_4  feature_5  feature_6  \\\n",
            "0       0.00       0.64       0.64        0.0       0.32       0.00   \n",
            "1       0.21       0.28       0.50        0.0       0.14       0.28   \n",
            "2       0.06       0.00       0.71        0.0       1.23       0.19   \n",
            "3       0.00       0.00       0.00        0.0       0.63       0.00   \n",
            "4       0.00       0.00       0.00        0.0       0.63       0.00   \n",
            "\n",
            "   feature_7  feature_8  feature_9  feature_10  ...  feature_49  feature_50  \\\n",
            "0       0.00       0.00       0.00        0.00  ...        0.00       0.000   \n",
            "1       0.21       0.07       0.00        0.94  ...        0.00       0.132   \n",
            "2       0.19       0.12       0.64        0.25  ...        0.01       0.143   \n",
            "3       0.31       0.63       0.31        0.63  ...        0.00       0.137   \n",
            "4       0.31       0.63       0.31        0.63  ...        0.00       0.135   \n",
            "\n",
            "   feature_51  feature_52  feature_53  feature_54  feature_55  feature_56  \\\n",
            "0         0.0       0.778       0.000       0.000       3.756          61   \n",
            "1         0.0       0.372       0.180       0.048       5.114         101   \n",
            "2         0.0       0.276       0.184       0.010       9.821         485   \n",
            "3         0.0       0.137       0.000       0.000       3.537          40   \n",
            "4         0.0       0.135       0.000       0.000       3.537          40   \n",
            "\n",
            "   feature_57  spam  \n",
            "0         278     1  \n",
            "1        1028     1  \n",
            "2        2259     1  \n",
            "3         191     1  \n",
            "4         191     1  \n",
            "\n",
            "[5 rows x 58 columns]\n"
          ]
        }
      ],
      "source": [
        "import pandas as pd\n",
        "\n",
        "# Load the dataset\n",
        "url = \"https://archive.ics.uci.edu/ml/machine-learning-databases/spambase/spambase.data\"\n",
        "column_names = [f'feature_{i}' for i in range(1, 58)] + ['spam']\n",
        "data = pd.read_csv(url, header=None, names=column_names)\n",
        "\n",
        "# Inspect the data\n",
        "print(data.head())\n"
      ]
    },
    {
      "cell_type": "code",
      "execution_count": null,
      "metadata": {
        "id": "vIjmqPSRDlh0"
      },
      "outputs": [],
      "source": [
        "from sklearn.model_selection import train_test_split\n",
        "\n",
        "# Features and labels\n",
        "X = data.drop('spam', axis=1)\n",
        "y = data['spam']\n",
        "\n",
        "# Split into training and test sets\n",
        "X_train, X_test, y_train, y_test = train_test_split(X, y, test_size=0.33, random_state=42)\n"
      ]
    },
    {
      "cell_type": "code",
      "execution_count": null,
      "metadata": {
        "colab": {
          "base_uri": "https://localhost:8080/"
        },
        "id": "ZHhFNxzE0YCZ",
        "outputId": "9897ddf1-106b-45e3-d6d0-bbd919a34288"
      },
      "outputs": [
        {
          "output_type": "stream",
          "name": "stdout",
          "text": [
            "Accuracy for linear kernel: 0.9256089532587228\n",
            "[[844  42]\n",
            " [ 71 562]]\n",
            "              precision    recall  f1-score   support\n",
            "\n",
            "           0       0.92      0.95      0.94       886\n",
            "           1       0.93      0.89      0.91       633\n",
            "\n",
            "    accuracy                           0.93      1519\n",
            "   macro avg       0.93      0.92      0.92      1519\n",
            "weighted avg       0.93      0.93      0.93      1519\n",
            "\n",
            "Accuracy for poly kernel: 0.8505595786701777\n",
            "[[863  23]\n",
            " [204 429]]\n",
            "              precision    recall  f1-score   support\n",
            "\n",
            "           0       0.81      0.97      0.88       886\n",
            "           1       0.95      0.68      0.79       633\n",
            "\n",
            "    accuracy                           0.85      1519\n",
            "   macro avg       0.88      0.83      0.84      1519\n",
            "weighted avg       0.87      0.85      0.85      1519\n",
            "\n",
            "Accuracy for rbf kernel: 0.9335088874259381\n",
            "[[853  33]\n",
            " [ 68 565]]\n",
            "              precision    recall  f1-score   support\n",
            "\n",
            "           0       0.93      0.96      0.94       886\n",
            "           1       0.94      0.89      0.92       633\n",
            "\n",
            "    accuracy                           0.93      1519\n",
            "   macro avg       0.94      0.93      0.93      1519\n",
            "weighted avg       0.93      0.93      0.93      1519\n",
            "\n"
          ]
        }
      ],
      "source": [
        "from sklearn.svm import SVC\n",
        "import sklearn.metrics as metrics\n",
        "import matplotlib.pyplot as plt\n",
        "import numpy as np\n",
        "from sklearn.preprocessing import StandardScaler\n",
        "from sklearn.model_selection import GridSearchCV\n",
        "from sklearn.metrics import classification_report, confusion_matrix\n",
        "\n",
        "# SVM kernel functions\n",
        "kernels = ['linear', 'poly', 'rbf']\n",
        "\n",
        "\n",
        "#Feature Scaling\n",
        "scaler = StandardScaler()\n",
        "X_train_scaled = scaler.fit_transform(X_train)\n",
        "X_test_scaled = scaler.transform(X_test)\n",
        "\n",
        "# Tuning Hyperparameters\n",
        "param_grid = {\n",
        "    'C': [0.1, 1, 10],\n",
        "    'gamma': ['scale', 'auto']\n",
        "}\n",
        "\n",
        "for kernel in kernels:\n",
        "  clf = GridSearchCV(SVC(kernel=kernel), param_grid, scoring='accuracy', cv=5)\n",
        "  clf.fit(X_train_scaled, y_train)\n",
        "  best_svm = clf.best_estimator_\n",
        "\n",
        "  predictions = best_svm.predict(X_test_scaled)\n",
        "  accuracy = metrics.accuracy_score(y_test, predictions)\n",
        "  print(\"Accuracy for\", kernel,\"kernel:\", accuracy)\n",
        "  print(confusion_matrix(y_test, predictions))\n",
        "  print(classification_report(y_test, predictions))\n",
        "\n"
      ]
    }
  ],
  "metadata": {
    "colab": {
      "provenance": []
    },
    "kernelspec": {
      "display_name": "Python 3",
      "name": "python3"
    },
    "language_info": {
      "name": "python"
    }
  },
  "nbformat": 4,
  "nbformat_minor": 0
}